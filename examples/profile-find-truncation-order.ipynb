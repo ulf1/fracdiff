{
 "cells": [
  {
   "cell_type": "markdown",
   "metadata": {},
   "source": [
    "# Load Packages"
   ]
  },
  {
   "cell_type": "code",
   "execution_count": 1,
   "metadata": {},
   "outputs": [],
   "source": [
    "import numpy as np\n",
    "import numba\n",
    "\n",
    "#!pip install memory_profiler\n",
    "import memory_profiler\n",
    "%load_ext memory_profiler"
   ]
  },
  {
   "cell_type": "markdown",
   "metadata": {},
   "source": [
    "# Load Data"
   ]
  },
  {
   "cell_type": "code",
   "execution_count": 2,
   "metadata": {},
   "outputs": [],
   "source": [
    "with np.load('data/demo1.npz') as data:\n",
    "    x = data['px'][:, 0]"
   ]
  },
  {
   "cell_type": "markdown",
   "metadata": {},
   "source": [
    "# Find truncation order m\n",
    "The task is to find the first $m^*$ whereas \n",
    "\n",
    "$$\n",
    "|w_{m^*}| \\geq \\tau \\; \\wedge \\; |w_{m^*+1}| < \\tau\n",
    "$$\n",
    "\n",
    "(see \"Fixed-Width Window Fracdiff\" in Lopez, 2018, pp. 80--84)"
   ]
  },
  {
   "cell_type": "code",
   "execution_count": 3,
   "metadata": {},
   "outputs": [],
   "source": [
    "# numpy version\n",
    "def find_truncation_order1(d, tau=1e-5, mmax=20000):\n",
    "    w = np.empty((mmax+1,))\n",
    "    w[0] = 1\n",
    "    for k in range(1, mmax+1):\n",
    "        w[k] = -w[k-1] * ((d - k + 1) / k)\n",
    "        if np.abs(w[k]) < tau:\n",
    "            break\n",
    "    return k-1, w[:k]"
   ]
  },
  {
   "cell_type": "code",
   "execution_count": 4,
   "metadata": {},
   "outputs": [],
   "source": [
    "# list version\n",
    "def find_truncation_order2(d, tau=1e-5, mmax=20000):\n",
    "    w = [1]\n",
    "    for k in range(1, mmax+1):\n",
    "        wk = -w[-1] * ((d - k + 1) / k)\n",
    "        if abs(wk) < tau:\n",
    "            break\n",
    "        w.append(wk)\n",
    "    return k-1, w"
   ]
  },
  {
   "cell_type": "code",
   "execution_count": 5,
   "metadata": {},
   "outputs": [],
   "source": [
    "# numba/list version\n",
    "@numba.jit(nopython=True)\n",
    "def find_truncation_order3(d, tau=1e-5, mmax=20000):\n",
    "    w = [1]\n",
    "    for k in range(1, mmax+1):\n",
    "        wk = -w[-1] * ((d - k + 1) / k)\n",
    "        if abs(wk) < tau:\n",
    "            break\n",
    "        w.append(wk)\n",
    "    return k-1, w"
   ]
  },
  {
   "cell_type": "markdown",
   "metadata": {},
   "source": [
    "# Initial Run\n",
    "required for numba"
   ]
  },
  {
   "cell_type": "code",
   "execution_count": 6,
   "metadata": {},
   "outputs": [
    {
     "name": "stdout",
     "output_type": "stream",
     "text": [
      "CPU times: user 7.27 ms, sys: 153 µs, total: 7.43 ms\n",
      "Wall time: 7.51 ms\n",
      "CPU times: user 1.2 ms, sys: 74 µs, total: 1.27 ms\n",
      "Wall time: 1.34 ms\n",
      "CPU times: user 691 ms, sys: 101 ms, total: 792 ms\n",
      "Wall time: 941 ms\n"
     ]
    }
   ],
   "source": [
    "d = 0.345\n",
    "%time mstar, w = find_truncation_order1(d)\n",
    "%time mstar, w = find_truncation_order2(d)\n",
    "%time mstar, w = find_truncation_order3(d)"
   ]
  },
  {
   "cell_type": "markdown",
   "metadata": {},
   "source": [
    "# Speed\n",
    "The `numba` version is the winner."
   ]
  },
  {
   "cell_type": "code",
   "execution_count": 7,
   "metadata": {},
   "outputs": [
    {
     "name": "stdout",
     "output_type": "stream",
     "text": [
      "8.91 ms ± 1.27 ms per loop (mean ± std. dev. of 7 runs, 100 loops each)\n",
      "1.19 ms ± 139 µs per loop (mean ± std. dev. of 7 runs, 1000 loops each)\n",
      "117 µs ± 4.44 µs per loop (mean ± std. dev. of 7 runs, 10000 loops each)\n"
     ]
    }
   ],
   "source": [
    "d = 0.345\n",
    "%timeit mstar, w = find_truncation_order1(d)\n",
    "%timeit mstar, w = find_truncation_order2(d)\n",
    "%timeit mstar, w = find_truncation_order3(d)"
   ]
  },
  {
   "cell_type": "markdown",
   "metadata": {},
   "source": [
    "# Memory"
   ]
  },
  {
   "cell_type": "code",
   "execution_count": 8,
   "metadata": {},
   "outputs": [
    {
     "name": "stdout",
     "output_type": "stream",
     "text": [
      "peak memory: 116.12 MiB, increment: -0.23 MiB\n",
      "peak memory: 115.54 MiB, increment: -0.37 MiB\n",
      "peak memory: 115.54 MiB, increment: 0.00 MiB\n"
     ]
    }
   ],
   "source": [
    "d = 0.345\n",
    "%memit mstar, w = find_truncation_order1(d)\n",
    "%memit mstar, w = find_truncation_order2(d)\n",
    "%memit mstar, w = find_truncation_order3(d)"
   ]
  },
  {
   "cell_type": "markdown",
   "metadata": {},
   "source": [
    "# References\n",
    "* Prado, M.L. de, 2018. Advances in Financial Machine Learning, 1st ed. Wiley."
   ]
  },
  {
   "cell_type": "code",
   "execution_count": null,
   "metadata": {},
   "outputs": [],
   "source": []
  }
 ],
 "metadata": {
  "kernelspec": {
   "display_name": "Python 3",
   "language": "python",
   "name": "python3"
  },
  "language_info": {
   "codemirror_mode": {
    "name": "ipython",
    "version": 3
   },
   "file_extension": ".py",
   "mimetype": "text/x-python",
   "name": "python",
   "nbconvert_exporter": "python",
   "pygments_lexer": "ipython3",
   "version": "3.6.3"
  }
 },
 "nbformat": 4,
 "nbformat_minor": 4
}
