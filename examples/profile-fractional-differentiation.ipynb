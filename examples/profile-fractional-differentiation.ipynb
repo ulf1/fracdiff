{
 "cells": [
  {
   "cell_type": "markdown",
   "metadata": {},
   "source": [
    "# Load Packages"
   ]
  },
  {
   "cell_type": "code",
   "execution_count": 1,
   "metadata": {},
   "outputs": [],
   "source": [
    "import numpy as np\n",
    "import scipy.special\n",
    "import numba\n",
    "\n",
    "import matplotlib.pyplot as plt\n",
    "%matplotlib inline\n",
    "\n",
    "#!pip install memory_profiler\n",
    "import memory_profiler\n",
    "%load_ext memory_profiler"
   ]
  },
  {
   "cell_type": "markdown",
   "metadata": {},
   "source": [
    "# Load Demo Data"
   ]
  },
  {
   "cell_type": "code",
   "execution_count": 2,
   "metadata": {},
   "outputs": [],
   "source": [
    "with np.load('data/demo1.npz') as data:\n",
    "    x = data['px'][:, 0]"
   ]
  },
  {
   "cell_type": "markdown",
   "metadata": {},
   "source": [
    "# Modeling\n",
    "Let $x_t$ a time series, \n",
    "$t\\in\\mathbb{N}$ the time step,\n",
    "$\\Delta^d$ the difference operator of fractional order $d\\in\\mathbb{R}^+$,\n",
    "and $m$ the truncation order"
   ]
  },
  {
   "cell_type": "markdown",
   "metadata": {},
   "source": [
    "**Formula 1** (see Schoffer, 2003, p.50; The formula will **fail** for integral order $d\\in\\mathbb{N}$)\n",
    "\n",
    "$$\n",
    "(\\Delta^d x)_t = \\sum_{k=0}^\\infty \\frac{\\Gamma(k - d)}{\\Gamma(k + 1) \\, \\Gamma(-d)} \\, x_{t-k} \\\\\n",
    "(\\Delta^d x)_t \\approx \\sum_{k=0}^m \\frac{\\Gamma(k - d)}{\\Gamma(k + 1) \\, \\Gamma(-d)} \\, x_{t-k}\n",
    "$$\n",
    "\n"
   ]
  },
  {
   "cell_type": "markdown",
   "metadata": {},
   "source": [
    "**Formula 2** (see Balisarsingh, 2013, pp.9737-9742)\n",
    "\n",
    "$$\n",
    "(\\Delta^d x)_t = \\sum_{k=0}^\\infty (-1)^k \\frac{\\Gamma(d + 1)}{k! \\, \\Gamma(d - k + 1)} \\, x_{t-k} \\\\\n",
    "(\\Delta^d x)_t \\approx \\sum_{k=0}^m (-1)^k \\frac{\\Gamma(d + 1)}{k! \\, \\Gamma(d - k + 1)} \\, x_{t-k}\n",
    "$$\n"
   ]
  },
  {
   "cell_type": "markdown",
   "metadata": {},
   "source": [
    "**Formula 3/4** (see Lopez, 2018, p.78, from the 'iterative estimation' formula; Jensen and Nielsen, 2014)\n",
    "\n",
    "$$\n",
    "(\\Delta^d x)_t = x_t + \\sum_{k=1}^\\infty \\left(\\prod_{i=1}^k \\frac{d - i + 1}{i} \\right) x_{t-k} \\\\\n",
    "(\\Delta^d x)_t \\approx x_t + \\sum_{k=1}^m \\left(\\prod_{i=1}^k \\frac{d - i + 1}{i} \\right) x_{t-k}\n",
    "$$"
   ]
  },
  {
   "cell_type": "code",
   "execution_count": 3,
   "metadata": {},
   "outputs": [],
   "source": [
    "def frac_weights_1(d: float, m: int) -> np.ndarray:\n",
    "    w = np.empty((m + 1,))\n",
    "    for k in range(m + 1):\n",
    "        w[k] = scipy.special.gamma(k - d) \\\n",
    "               / (scipy.special.gamma(k + 1) * scipy.special.gamma(-d))\n",
    "    return w"
   ]
  },
  {
   "cell_type": "code",
   "execution_count": 4,
   "metadata": {},
   "outputs": [],
   "source": [
    "def frac_weights_2(d: float, m: int) -> np.ndarray:\n",
    "    w = np.empty((m + 1,))\n",
    "    for k in range(m + 1):\n",
    "        w[k] = np.power(-1, k) * scipy.special.gamma(d + 1) \\\n",
    "               / (scipy.special.factorial(k) * scipy.special.gamma(d - k + 1))\n",
    "    return w"
   ]
  },
  {
   "cell_type": "code",
   "execution_count": 5,
   "metadata": {},
   "outputs": [],
   "source": [
    "def frac_weights_3(d: float, m: int) -> np.ndarray:\n",
    "    w = np.empty((m + 1,))\n",
    "    w[0] = 1\n",
    "    for j in range(1, m + 1):\n",
    "        w[j] = -w[j - 1] * ((d - j + 1) / j)\n",
    "    return w"
   ]
  },
  {
   "cell_type": "code",
   "execution_count": 6,
   "metadata": {},
   "outputs": [],
   "source": [
    "def frac_weights_4(d: float, m: int) -> np.ndarray:\n",
    "    w = [1]\n",
    "    for k in range(1, m + 1):\n",
    "        w.append(-w[-1] * ((d - k + 1) / k))\n",
    "    return np.array(w)"
   ]
  },
  {
   "cell_type": "code",
   "execution_count": 7,
   "metadata": {},
   "outputs": [],
   "source": [
    "@numba.jit(nopython=True)\n",
    "def frac_weights_5(d: float, m: int) -> np.ndarray:\n",
    "    w = [1]\n",
    "    for k in range(1, m + 1):\n",
    "        w.append(-w[-1] * ((d - k + 1) / k))\n",
    "    return np.array(w)"
   ]
  },
  {
   "cell_type": "code",
   "execution_count": 8,
   "metadata": {},
   "outputs": [
    {
     "name": "stdout",
     "output_type": "stream",
     "text": [
      "0.003395536381106888\n",
      "0.003395536381106581\n",
      "0.003395536381106833\n",
      "0.003395536381106833\n",
      "0.003395536381106833\n"
     ]
    }
   ],
   "source": [
    "d = 0.845\n",
    "m = 100  # truncation order\n",
    "\n",
    "w = frac_weights_1(d, m)\n",
    "print(np.nansum(w))\n",
    "\n",
    "w = frac_weights_2(d, m)\n",
    "print(np.nansum(w))\n",
    "\n",
    "w = frac_weights_3(d, m)\n",
    "print(np.nansum(w))\n",
    "\n",
    "w = frac_weights_4(d, m)\n",
    "print(np.nansum(w))\n",
    "\n",
    "w = frac_weights_5(d, m)\n",
    "print(np.nansum(w))"
   ]
  },
  {
   "cell_type": "markdown",
   "metadata": {},
   "source": [
    "# Speed\n",
    "The `numba` (list) version of the iterative estimation (formula 5) is by far the fastest"
   ]
  },
  {
   "cell_type": "code",
   "execution_count": 9,
   "metadata": {},
   "outputs": [
    {
     "name": "stdout",
     "output_type": "stream",
     "text": [
      "630 µs ± 39.7 µs per loop (mean ± std. dev. of 7 runs, 1000 loops each)\n",
      "2.14 ms ± 69.7 µs per loop (mean ± std. dev. of 7 runs, 100 loops each)\n",
      "115 µs ± 14.4 µs per loop (mean ± std. dev. of 7 runs, 10000 loops each)\n",
      "54 µs ± 2.05 µs per loop (mean ± std. dev. of 7 runs, 10000 loops each)\n",
      "6.4 µs ± 716 ns per loop (mean ± std. dev. of 7 runs, 100000 loops each)\n"
     ]
    }
   ],
   "source": [
    "%timeit w = frac_weights_1(d, m)\n",
    "%timeit w = frac_weights_2(d, m)\n",
    "%timeit w = frac_weights_3(d, m)\n",
    "%timeit w = frac_weights_4(d, m)\n",
    "%timeit w = frac_weights_5(d, m)"
   ]
  },
  {
   "cell_type": "markdown",
   "metadata": {},
   "source": [
    "# Memory"
   ]
  },
  {
   "cell_type": "code",
   "execution_count": 10,
   "metadata": {},
   "outputs": [
    {
     "name": "stdout",
     "output_type": "stream",
     "text": [
      "peak memory: 131.54 MiB, increment: -0.22 MiB\n",
      "peak memory: 131.54 MiB, increment: 0.00 MiB\n",
      "peak memory: 131.54 MiB, increment: 0.00 MiB\n",
      "peak memory: 131.54 MiB, increment: 0.00 MiB\n",
      "peak memory: 131.54 MiB, increment: 0.00 MiB\n"
     ]
    }
   ],
   "source": [
    "%memit w = frac_weights_1(d, m)\n",
    "%memit w = frac_weights_2(d, m)\n",
    "%memit w = frac_weights_3(d, m)\n",
    "%memit w = frac_weights_4(d, m)\n",
    "%memit w = frac_weights_5(d, m)"
   ]
  },
  {
   "cell_type": "markdown",
   "metadata": {},
   "source": [
    "# References\n",
    "* Baliarsingh, P., 2013. Some new difference sequence spaces of fractional order and their dual spaces. Applied Mathematics and Computation 219, 9737–9742. https://doi.org/10.1016/j.amc.2013.03.073\n",
    "* Jensen, A.N., Nielsen, M.Ø., 2014. A Fast Fractional Difference Algorithm. Journal of Time Series Analysis 35, 428–436. https://doi.org/10.1111/jtsa.12074\n",
    "* Prado, M.L. de, 2018. Advances in Financial Machine Learning, 1st ed. Wiley.\n",
    "* Schoffer, O., n.d. Modellierung von Kapitalmarktrenditen mittels asymmetrischer GARCH-Modelle. Universitaet Dortmund.\n"
   ]
  }
 ],
 "metadata": {
  "kernelspec": {
   "display_name": "Python 3",
   "language": "python",
   "name": "python3"
  },
  "language_info": {
   "codemirror_mode": {
    "name": "ipython",
    "version": 3
   },
   "file_extension": ".py",
   "mimetype": "text/x-python",
   "name": "python",
   "nbconvert_exporter": "python",
   "pygments_lexer": "ipython3",
   "version": "3.6.3"
  }
 },
 "nbformat": 4,
 "nbformat_minor": 4
}
