{
 "cells": [
  {
   "cell_type": "markdown",
   "metadata": {},
   "source": [
    "# Download Demo Dataset"
   ]
  },
  {
   "cell_type": "code",
   "execution_count": 1,
   "metadata": {},
   "outputs": [],
   "source": [
    "import quandl\n",
    "import pandas as pd\n",
    "import numpy as np"
   ]
  },
  {
   "cell_type": "code",
   "execution_count": 2,
   "metadata": {},
   "outputs": [],
   "source": [
    "quandl.read_key()"
   ]
  },
  {
   "cell_type": "code",
   "execution_count": 3,
   "metadata": {},
   "outputs": [],
   "source": [
    "ticker = [\n",
    "    \"EIA/PET_RWTC_D\",  # Cushing, OK WTI Spot Price FOB\n",
    "    \"ML/EMCTRI\",  # Emerging Markets Corp Bonds TR Index\n",
    "    \"ML/TRI\",  # US Corporate Bonds Total Return Index\n",
    "    \"NASDAQOMX/NQEU.4\"  # NASDAQ Europe Index (NQEU) with dividends\n",
    "]"
   ]
  },
  {
   "cell_type": "code",
   "execution_count": 4,
   "metadata": {},
   "outputs": [],
   "source": [
    "start_dt = \"2011-01-01\";\n",
    "end_dt = \"2018-12-31\";"
   ]
  },
  {
   "cell_type": "code",
   "execution_count": 5,
   "metadata": {},
   "outputs": [
    {
     "name": "stdout",
     "output_type": "stream",
     "text": [
      "CPU times: user 2.08 s, sys: 34.3 ms, total: 2.11 s\n",
      "Wall time: 6.68 s\n"
     ]
    }
   ],
   "source": [
    "%%time\n",
    "df = quandl.get(ticker, start_date=start_dt, end_date=end_dt)"
   ]
  },
  {
   "cell_type": "code",
   "execution_count": 6,
   "metadata": {},
   "outputs": [
    {
     "data": {
      "text/html": [
       "<div>\n",
       "<style scoped>\n",
       "    .dataframe tbody tr th:only-of-type {\n",
       "        vertical-align: middle;\n",
       "    }\n",
       "\n",
       "    .dataframe tbody tr th {\n",
       "        vertical-align: top;\n",
       "    }\n",
       "\n",
       "    .dataframe thead th {\n",
       "        text-align: right;\n",
       "    }\n",
       "</style>\n",
       "<table border=\"1\" class=\"dataframe\">\n",
       "  <thead>\n",
       "    <tr style=\"text-align: right;\">\n",
       "      <th></th>\n",
       "      <th>EIA/PET_RWTC_D - Value</th>\n",
       "      <th>ML/EMCTRI - BAMLEMCBPITRIV</th>\n",
       "      <th>ML/TRI - BAMLCC0A0CMTRIV</th>\n",
       "      <th>NASDAQOMX/NQEU - Total Market Value</th>\n",
       "    </tr>\n",
       "  </thead>\n",
       "  <tbody>\n",
       "    <tr>\n",
       "      <td>2011-01-03</td>\n",
       "      <td>91.59</td>\n",
       "      <td>270.39</td>\n",
       "      <td>2062.60</td>\n",
       "      <td>8.258246e+12</td>\n",
       "    </tr>\n",
       "    <tr>\n",
       "      <td>2011-01-04</td>\n",
       "      <td>89.39</td>\n",
       "      <td>270.72</td>\n",
       "      <td>2062.70</td>\n",
       "      <td>8.297848e+12</td>\n",
       "    </tr>\n",
       "    <tr>\n",
       "      <td>2011-01-05</td>\n",
       "      <td>90.30</td>\n",
       "      <td>270.71</td>\n",
       "      <td>2049.00</td>\n",
       "      <td>8.195701e+12</td>\n",
       "    </tr>\n",
       "    <tr>\n",
       "      <td>2011-01-06</td>\n",
       "      <td>88.37</td>\n",
       "      <td>271.21</td>\n",
       "      <td>2056.02</td>\n",
       "      <td>8.159846e+12</td>\n",
       "    </tr>\n",
       "    <tr>\n",
       "      <td>2011-01-07</td>\n",
       "      <td>88.07</td>\n",
       "      <td>271.50</td>\n",
       "      <td>2064.58</td>\n",
       "      <td>8.114984e+12</td>\n",
       "    </tr>\n",
       "  </tbody>\n",
       "</table>\n",
       "</div>"
      ],
      "text/plain": [
       "            EIA/PET_RWTC_D - Value  ML/EMCTRI - BAMLEMCBPITRIV  \\\n",
       "2011-01-03                   91.59                      270.39   \n",
       "2011-01-04                   89.39                      270.72   \n",
       "2011-01-05                   90.30                      270.71   \n",
       "2011-01-06                   88.37                      271.21   \n",
       "2011-01-07                   88.07                      271.50   \n",
       "\n",
       "            ML/TRI - BAMLCC0A0CMTRIV  NASDAQOMX/NQEU - Total Market Value  \n",
       "2011-01-03                   2062.60                         8.258246e+12  \n",
       "2011-01-04                   2062.70                         8.297848e+12  \n",
       "2011-01-05                   2049.00                         8.195701e+12  \n",
       "2011-01-06                   2056.02                         8.159846e+12  \n",
       "2011-01-07                   2064.58                         8.114984e+12  "
      ]
     },
     "execution_count": 6,
     "metadata": {},
     "output_type": "execute_result"
    }
   ],
   "source": [
    "df.head()"
   ]
  },
  {
   "cell_type": "code",
   "execution_count": 7,
   "metadata": {},
   "outputs": [],
   "source": [
    "# preprocess\n",
    "names = list(df.columns)\n",
    "\n",
    "# Weekday Grid\n",
    "t = pd.date_range(start=start_dt, end=end_dt, freq='D')\n",
    "t = t[t.weekday <= 4]\n",
    "\n",
    "# Map downloaded data 'df' to weekday grid 't'\n",
    "px = pd.DataFrame(index=t).join(df, how='left') \n",
    "px = px.fillna(method='ffill')  # previous tick interpolation\n",
    "px = px.values"
   ]
  },
  {
   "cell_type": "code",
   "execution_count": 8,
   "metadata": {},
   "outputs": [
    {
     "name": "stdout",
     "output_type": "stream",
     "text": [
      "mkdir: data/: File exists\n"
     ]
    }
   ],
   "source": [
    "!mkdir data/\n",
    "np.savez('data/demo1.npz', t=t, px=px)"
   ]
  },
  {
   "cell_type": "markdown",
   "metadata": {},
   "source": [
    "Read file\n",
    "\n",
    "```\n",
    "with np.load('data/demo1.npz') as data:\n",
    "    t = data['t']\n",
    "    px = data['px']\n",
    "```"
   ]
  }
 ],
 "metadata": {
  "kernelspec": {
   "display_name": "Python 3",
   "language": "python",
   "name": "python3"
  },
  "language_info": {
   "codemirror_mode": {
    "name": "ipython",
    "version": 3
   },
   "file_extension": ".py",
   "mimetype": "text/x-python",
   "name": "python",
   "nbconvert_exporter": "python",
   "pygments_lexer": "ipython3",
   "version": "3.7.1"
  }
 },
 "nbformat": 4,
 "nbformat_minor": 4
}
