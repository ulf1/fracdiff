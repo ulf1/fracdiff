{
 "cells": [
  {
   "cell_type": "markdown",
   "metadata": {},
   "source": [
    "# Load Packages"
   ]
  },
  {
   "cell_type": "code",
   "execution_count": 1,
   "metadata": {
    "ExecuteTime": {
     "end_time": "2018-09-18T08:12:38.232692Z",
     "start_time": "2018-09-18T08:12:38.223700Z"
    }
   },
   "outputs": [],
   "source": [
    "import sys\n",
    "sys.path.append('..')"
   ]
  },
  {
   "cell_type": "code",
   "execution_count": 2,
   "metadata": {
    "ExecuteTime": {
     "end_time": "2018-09-18T08:12:38.249524Z",
     "start_time": "2018-09-18T08:12:38.237886Z"
    }
   },
   "outputs": [],
   "source": [
    "from fracdiff import fracdiff\n",
    "import numpy as np\n",
    "import scipy.special"
   ]
  },
  {
   "cell_type": "code",
   "execution_count": 3,
   "metadata": {},
   "outputs": [],
   "source": [
    "import matplotlib.pyplot as plt\n",
    "%matplotlib inline"
   ]
  },
  {
   "cell_type": "code",
   "execution_count": 4,
   "metadata": {},
   "outputs": [],
   "source": [
    "#!pip install memory_profiler\n",
    "import line_profiler\n",
    "%load_ext line_profiler"
   ]
  },
  {
   "cell_type": "code",
   "execution_count": 5,
   "metadata": {},
   "outputs": [],
   "source": [
    "#!pip install memory_profiler\n",
    "import memory_profiler\n",
    "%load_ext memory_profiler"
   ]
  },
  {
   "cell_type": "markdown",
   "metadata": {},
   "source": [
    "# Load Demo Data"
   ]
  },
  {
   "cell_type": "code",
   "execution_count": 6,
   "metadata": {},
   "outputs": [],
   "source": [
    "with np.load('data/demo1.npz') as data:\n",
    "    t = data['t']\n",
    "    px = data['px']"
   ]
  },
  {
   "cell_type": "code",
   "execution_count": 7,
   "metadata": {},
   "outputs": [],
   "source": [
    "x = px[:, 0]"
   ]
  },
  {
   "cell_type": "code",
   "execution_count": 8,
   "metadata": {},
   "outputs": [],
   "source": [
    "del t, px"
   ]
  },
  {
   "cell_type": "markdown",
   "metadata": {},
   "source": [
    "# Modeling"
   ]
  },
  {
   "cell_type": "markdown",
   "metadata": {},
   "source": [
    "## (a) First Order Differentiation\n",
    "Let $x_t$ a time series, \n",
    "$t\\in\\mathbb{N}$ the time step,\n",
    "$\\Delta^1$ the difference operator for first order $d=1$\n",
    "\n",
    "$$\n",
    "(\\Delta^1 x)_t = x_t - x_{t-1}\n",
    "$$\n"
   ]
  },
  {
   "cell_type": "markdown",
   "metadata": {},
   "source": [
    "Example"
   ]
  },
  {
   "cell_type": "code",
   "execution_count": 9,
   "metadata": {},
   "outputs": [
    {
     "data": {
      "text/plain": [
       "array([-2.2 ,  0.91, -1.93, ..., -1.56,  0.67,  0.  ])"
      ]
     },
     "execution_count": 9,
     "metadata": {},
     "output_type": "execute_result"
    }
   ],
   "source": [
    "z = x[1:] - x[:-1]\n",
    "z"
   ]
  },
  {
   "cell_type": "markdown",
   "metadata": {},
   "source": [
    "Wrap it into a function"
   ]
  },
  {
   "cell_type": "code",
   "execution_count": 10,
   "metadata": {},
   "outputs": [],
   "source": [
    "def firstdiff(x: np.ndarray) -> np.ndarray:\n",
    "    z = np.empty(shape=x.shape)\n",
    "    z[0] = np.nan\n",
    "    z[1:] = x[1:] - x[:-1]\n",
    "    return z"
   ]
  },
  {
   "cell_type": "code",
   "execution_count": 11,
   "metadata": {},
   "outputs": [
    {
     "name": "stdout",
     "output_type": "stream",
     "text": [
      "CPU times: user 71 µs, sys: 28 µs, total: 99 µs\n",
      "Wall time: 152 µs\n",
      "[  nan -2.2   0.91 -1.93 -0.3   1.17  1.87  0.74 -0.46  0.14]\n"
     ]
    }
   ],
   "source": [
    "%time z = firstdiff(x)\n",
    "print(z[:10])"
   ]
  },
  {
   "cell_type": "markdown",
   "metadata": {},
   "source": [
    "## (b) Integral Differentiation\n",
    "Let $x_t$ a time series, \n",
    "$t\\in\\mathbb{N}$ the time step,\n",
    "$\\Delta^d$ the difference operator of integral order $d\\in\\mathbb{N}^+$\n",
    "\n",
    "$$\n",
    "(\\Delta^d x)_t = \\sum_{k=0}^d (-1)^k {d\\choose k} x_{t-k}\n",
    "$$\n"
   ]
  },
  {
   "cell_type": "markdown",
   "metadata": {},
   "source": [
    "Example with `d=1`"
   ]
  },
  {
   "cell_type": "code",
   "execution_count": 12,
   "metadata": {},
   "outputs": [
    {
     "name": "stdout",
     "output_type": "stream",
     "text": [
      "[ 1. -1.]\n"
     ]
    }
   ],
   "source": [
    "# generate weights\n",
    "d = 1\n",
    "w = np.empty((d+1,))\n",
    "for k in range(d+1):\n",
    "    w[k] = np.power(-1, k) * scipy.special.binom(d, k)\n",
    "\n",
    "print(w)"
   ]
  },
  {
   "cell_type": "code",
   "execution_count": 13,
   "metadata": {},
   "outputs": [
    {
     "name": "stdout",
     "output_type": "stream",
     "text": [
      "[  nan -2.2   0.91 -1.93 -0.3   1.17  1.87  0.74 -0.46  0.14]\n"
     ]
    }
   ],
   "source": [
    "# apply weights\n",
    "z = w[0] * x\n",
    "z[:d] = np.nan\n",
    "for k in range(1, d+1):\n",
    "    z[k:] += w[k] * x[:-k]\n",
    "    \n",
    "print(z[:10])"
   ]
  },
  {
   "cell_type": "markdown",
   "metadata": {},
   "source": [
    "Wrap it in a function"
   ]
  },
  {
   "cell_type": "code",
   "execution_count": 14,
   "metadata": {},
   "outputs": [],
   "source": [
    "def intdiff(x: np.ndarray, d: int) -> (np.ndarray, np.ndarray):\n",
    "    # generate weights\n",
    "    w = np.empty((d + 1,))\n",
    "    for k in range(d+1):\n",
    "        w[k] = np.power(-1, k) * scipy.special.binom(d, k)\n",
    "    # apply weights\n",
    "    z = w[0] * x\n",
    "    z[:d] = np.nan\n",
    "    for k in range(1, d+1):\n",
    "        z[k:] += w[k] * x[:-k]\n",
    "    return z, w"
   ]
  },
  {
   "cell_type": "code",
   "execution_count": 15,
   "metadata": {},
   "outputs": [
    {
     "name": "stdout",
     "output_type": "stream",
     "text": [
      "CPU times: user 339 µs, sys: 201 µs, total: 540 µs\n",
      "Wall time: 426 µs\n",
      "[  nan -2.2   0.91 -1.93 -0.3   1.17  1.87  0.74 -0.46  0.14]\n"
     ]
    }
   ],
   "source": [
    "%time z, _ = intdiff(x, 1)\n",
    "print(z[:10])"
   ]
  },
  {
   "cell_type": "code",
   "execution_count": 16,
   "metadata": {},
   "outputs": [
    {
     "name": "stdout",
     "output_type": "stream",
     "text": [
      "[  nan   nan  3.11 -2.84  1.63  1.47  0.7  -1.13 -1.2   0.6 ]\n"
     ]
    }
   ],
   "source": [
    "z, _ = intdiff(x, 2)\n",
    "print(z[:10])"
   ]
  },
  {
   "cell_type": "code",
   "execution_count": 17,
   "metadata": {},
   "outputs": [
    {
     "name": "stdout",
     "output_type": "stream",
     "text": [
      "[  nan   nan   nan -5.95  4.47 -0.16 -0.77 -1.83 -0.07  1.8 ]\n"
     ]
    }
   ],
   "source": [
    "z, _ = intdiff(x, 3)\n",
    "print(z[:10])"
   ]
  },
  {
   "cell_type": "markdown",
   "metadata": {},
   "source": [
    "## (c) Fractional Differentiation \n",
    "Let $x_t$ a time series, \n",
    "$t\\in\\mathbb{N}$ the time step,\n",
    "$\\Delta^d$ the difference operator of fractional order $d\\in\\mathbb{R}^+$,\n",
    "and $m$ the truncation order\n",
    "\n",
    "$$\n",
    "(\\Delta^d x)_t = x_t + \\sum_{k=1}^\\infty \\left(\\prod_{i=1}^k \\frac{d - i + 1}{i} \\right) x_{t-k} \\\\\n",
    "(\\Delta^d x)_t \\approx x_t + \\sum_{k=1}^m \\left(\\prod_{i=1}^k \\frac{d - i + 1}{i} \\right) x_{t-k}\n",
    "$$\n",
    "\n",
    "(see Lopez, 2018, p.78, from the 'iterative estimation' formula; Jensen and Nielsen, 2014)"
   ]
  },
  {
   "cell_type": "code",
   "execution_count": 18,
   "metadata": {},
   "outputs": [
    {
     "name": "stdout",
     "output_type": "stream",
     "text": [
      "CPU times: user 125 µs, sys: 45 µs, total: 170 µs\n",
      "Wall time: 177 µs\n",
      "[  nan -2.2   0.91 -1.93 -0.3   1.17  1.87  0.74 -0.46  0.14]\n"
     ]
    }
   ],
   "source": [
    "%time z = fracdiff(x, order=1)\n",
    "print(z[:10])\n",
    "#plt.plot(z);"
   ]
  },
  {
   "cell_type": "code",
   "execution_count": 19,
   "metadata": {},
   "outputs": [
    {
     "name": "stdout",
     "output_type": "stream",
     "text": [
      "CPU times: user 11.7 ms, sys: 1.61 ms, total: 13.4 ms\n",
      "Wall time: 57.8 ms\n"
     ]
    },
    {
     "data": {
      "image/png": "[encoded data removed]",
      "text/plain": [
       "<Figure size 432x288 with 1 Axes>"
      ]
     },
     "metadata": {
      "needs_background": "light"
     },
     "output_type": "display_data"
    }
   ],
   "source": [
    "%time z = fracdiff(x, order=0.5)\n",
    "plt.plot(z);"
   ]
  },
  {
   "cell_type": "code",
   "execution_count": 20,
   "metadata": {},
   "outputs": [
    {
     "name": "stdout",
     "output_type": "stream",
     "text": [
      "CPU times: user 2.45 ms, sys: 2.02 ms, total: 4.47 ms\n",
      "Wall time: 2.47 ms\n"
     ]
    },
    {
     "data": {
      "image/png": "[encoded data removed]",
      "text/plain": [
       "<Figure size 432x288 with 1 Axes>"
      ]
     },
     "metadata": {
      "needs_background": "light"
     },
     "output_type": "display_data"
    }
   ],
   "source": [
    "%time z = fracdiff(x, order=1.5)\n",
    "plt.plot(z);"
   ]
  },
  {
   "cell_type": "markdown",
   "metadata": {},
   "source": [
    "# Speed"
   ]
  },
  {
   "cell_type": "code",
   "execution_count": 21,
   "metadata": {},
   "outputs": [
    {
     "name": "stdout",
     "output_type": "stream",
     "text": [
      "6.75 µs ± 652 ns per loop (mean ± std. dev. of 7 runs, 100000 loops each)\n",
      "52.7 µs ± 9.49 µs per loop (mean ± std. dev. of 7 runs, 10000 loops each)\n",
      "23.6 µs ± 4.76 µs per loop (mean ± std. dev. of 7 runs, 10000 loops each)\n"
     ]
    }
   ],
   "source": [
    "%timeit z = firstdiff(x)\n",
    "%timeit z, _ = intdiff(x, 1)\n",
    "%timeit z = fracdiff(x, order=1)"
   ]
  },
  {
   "cell_type": "markdown",
   "metadata": {},
   "source": [
    "# Memory"
   ]
  },
  {
   "cell_type": "code",
   "execution_count": 22,
   "metadata": {},
   "outputs": [
    {
     "name": "stdout",
     "output_type": "stream",
     "text": [
      "peak memory: 90.23 MiB, increment: -0.34 MiB\n",
      "peak memory: 89.79 MiB, increment: -0.38 MiB\n",
      "peak memory: 89.68 MiB, increment: -0.05 MiB\n"
     ]
    }
   ],
   "source": [
    "%memit z = firstdiff(x)\n",
    "%memit z, _ = intdiff(x, 1)\n",
    "%memit z = fracdiff(x, order=1)"
   ]
  },
  {
   "cell_type": "markdown",
   "metadata": {},
   "source": [
    "# Line-by-Line"
   ]
  },
  {
   "cell_type": "code",
   "execution_count": 23,
   "metadata": {},
   "outputs": [
    {
     "data": {
      "text/plain": [
       "Timer unit: 1e-06 s\n",
       "\n",
       "Total time: 0.001119 s\n",
       "File: ../fracdiff/fracdiff_fn.py\n",
       "Function: fracdiff at line 7\n",
       "\n",
       "Line #      Hits         Time  Per Hit   % Time  Line Contents\n",
       "==============================================================\n",
       "     7                                           def fracdiff(X: np.ndarray, order: float = None, weights: list = None,\n",
       "     8                                                        truncation: int = None, tau: float = 1e-5, mmax: int = 20000,\n",
       "     9                                                        dtype=None) -> np.ndarray:\n",
       "    10                                               # determine weights\n",
       "    11         1        943.0    943.0     84.3      if weights is None:\n",
       "    12         1          4.0      4.0      0.4          d = order if order else 0  # Default value, no differentiation\n",
       "    13         1          5.0      5.0      0.4          if isinstance(truncation, int):\n",
       "    14                                                       weights = frac_weights(d, truncation)\n",
       "    15                                                   else:  # 'find' or None\n",
       "    16         1         28.0     28.0      2.5              _, weights = find_truncation(d, tau=tau, mmax=mmax)\n",
       "    17                                           \n",
       "    18                                               # enforce float data type\n",
       "    19         1          2.0      2.0      0.2      if dtype is None:\n",
       "    20         1         11.0     11.0      1.0          dtype = X[0].dtype if isinstance(X[0], float) else float\n",
       "    21                                           \n",
       "    22                                               # multiply weights with lagged feature x\n",
       "    23         1          4.0      4.0      0.4      if len(X.shape) == 1:\n",
       "    24         1        121.0    121.0     10.8          Z = apply_weights(X.astype(dtype), weights)\n",
       "    25                                               else:\n",
       "    26                                                   Z = np.empty(shape=X.shape)\n",
       "    27                                                   for j in range(X.shape[1]):\n",
       "    28                                                       Z[:, j] = apply_weights(X[:, j].astype(dtype), weights)\n",
       "    29                                           \n",
       "    30                                               # done\n",
       "    31         1          1.0      1.0      0.1      return Z"
      ]
     },
     "metadata": {},
     "output_type": "display_data"
    }
   ],
   "source": [
    "%lprun -f fracdiff fracdiff(x, order=1)"
   ]
  },
  {
   "cell_type": "code",
   "execution_count": 24,
   "metadata": {},
   "outputs": [
    {
     "name": "stdout",
     "output_type": "stream",
     "text": [
      "\n"
     ]
    },
    {
     "data": {
      "text/plain": [
       "Filename: ../fracdiff/fracdiff_fn.py\n",
       "\n",
       "Line #    Mem usage    Increment   Line Contents\n",
       "================================================\n",
       "     7     89.8 MiB     89.8 MiB   def fracdiff(X: np.ndarray, order: float = None, weights: list = None,\n",
       "     8                                          truncation: int = None, tau: float = 1e-5, mmax: int = 20000,\n",
       "     9                                          dtype=None) -> np.ndarray:\n",
       "    10                                 # determine weights\n",
       "    11     89.8 MiB      0.0 MiB       if weights is None:\n",
       "    12     89.8 MiB      0.0 MiB           d = order if order else 0  # Default value, no differentiation\n",
       "    13     89.8 MiB      0.0 MiB           if isinstance(truncation, int):\n",
       "    14                                         weights = frac_weights(d, truncation)\n",
       "    15                                     else:  # 'find' or None\n",
       "    16     89.8 MiB      0.0 MiB               _, weights = find_truncation(d, tau=tau, mmax=mmax)\n",
       "    17                             \n",
       "    18                                 # enforce float data type\n",
       "    19     89.8 MiB      0.0 MiB       if dtype is None:\n",
       "    20     89.8 MiB      0.0 MiB           dtype = X[0].dtype if isinstance(X[0], float) else float\n",
       "    21                             \n",
       "    22                                 # multiply weights with lagged feature x\n",
       "    23     89.8 MiB      0.0 MiB       if len(X.shape) == 1:\n",
       "    24     89.8 MiB      0.0 MiB           Z = apply_weights(X.astype(dtype), weights)\n",
       "    25                                 else:\n",
       "    26                                     Z = np.empty(shape=X.shape)\n",
       "    27                                     for j in range(X.shape[1]):\n",
       "    28                                         Z[:, j] = apply_weights(X[:, j].astype(dtype), weights)\n",
       "    29                             \n",
       "    30                                 # done\n",
       "    31     89.8 MiB      0.0 MiB       return Z"
      ]
     },
     "metadata": {},
     "output_type": "display_data"
    }
   ],
   "source": [
    "%mprun -f fracdiff fracdiff(x, order=1)"
   ]
  },
  {
   "cell_type": "markdown",
   "metadata": {},
   "source": [
    "# References\n",
    "* Jensen, A.N., Nielsen, M.Ø., 2014. A Fast Fractional Difference Algorithm. Journal of Time Series Analysis 35, 428–436. https://doi.org/10.1111/jtsa.12074\n",
    "* Prado, M.L. de, 2018. Advances in Financial Machine Learning, 1st ed. Wiley."
   ]
  },
  {
   "cell_type": "code",
   "execution_count": null,
   "metadata": {},
   "outputs": [],
   "source": []
  }
 ],
 "metadata": {
  "kernelspec": {
   "display_name": "Python 3",
   "language": "python",
   "name": "python3"
  },
  "language_info": {
   "codemirror_mode": {
    "name": "ipython",
    "version": 3
   },
   "file_extension": ".py",
   "mimetype": "text/x-python",
   "name": "python",
   "nbconvert_exporter": "python",
   "pygments_lexer": "ipython3",
   "version": "3.7.1"
  },
  "toc": {
   "base_numbering": 1,
   "nav_menu": {},
   "number_sections": true,
   "sideBar": true,
   "skip_h1_title": false,
   "title_cell": "Table of Contents",
   "title_sidebar": "Contents",
   "toc_cell": false,
   "toc_position": {},
   "toc_section_display": true,
   "toc_window_display": false
  },
  "varInspector": {
   "cols": {
    "lenName": 16,
    "lenType": 16,
    "lenVar": 40
   },
   "kernels_config": {
    "python": {
     "delete_cmd_postfix": "",
     "delete_cmd_prefix": "del ",
     "library": "var_list.py",
     "varRefreshCmd": "print(var_dic_list())"
    },
    "r": {
     "delete_cmd_postfix": ") ",
     "delete_cmd_prefix": "rm(",
     "library": "var_list.r",
     "varRefreshCmd": "cat(var_dic_list()) "
    }
   },
   "types_to_exclude": [
    "module",
    "function",
    "builtin_function_or_method",
    "instance",
    "_Feature"
   ],
   "window_display": false
  }
 },
 "nbformat": 4,
 "nbformat_minor": 4
}
